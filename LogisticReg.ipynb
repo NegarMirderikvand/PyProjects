{
 "cells": [
  {
   "cell_type": "code",
   "execution_count": 38,
   "metadata": {},
   "outputs": [],
   "source": [
    "import pandas as pd\n",
    "import matplotlib.pyplot as plt\n",
    "from sklearn.linear_model import LogisticRegression\n",
    "from sklearn.linear_model import LinearRegression"
   ]
  },
  {
   "cell_type": "code",
   "execution_count": 40,
   "metadata": {},
   "outputs": [
    {
     "data": {
      "text/plain": [
       "Index(['school', 'sex', 'age', 'address', 'famsize', 'Pstatus', 'Medu', 'Fedu',\n",
       "       'Mjob', 'Fjob', 'reason', 'guardian', 'traveltime', 'studytime',\n",
       "       'failures', 'schoolsup', 'famsup', 'paid', 'activities', 'nursery',\n",
       "       'higher', 'internet', 'romantic', 'famrel', 'freetime', 'goout', 'Dalc',\n",
       "       'Walc', 'health', 'absences', 'G1', 'G2', 'G3'],\n",
       "      dtype='object')"
      ]
     },
     "execution_count": 40,
     "metadata": {},
     "output_type": "execute_result"
    }
   ],
   "source": [
    "data = pd.read_csv('C:/Users/ABA/Desktop/nikamooz/mainCourseSTuuf/dataset/student/student-mat.csv',delimiter=';')\n",
    "\n",
    "data.columns"
   ]
  },
  {
   "cell_type": "code",
   "execution_count": 3,
   "metadata": {},
   "outputs": [],
   "source": [
    "data.loc[data.G3 >= 12, 'Ghabool'] = 1\n",
    "data.loc[data.G3 < 12, 'Ghabool'] = 0"
   ]
  },
  {
   "cell_type": "code",
   "execution_count": 4,
   "metadata": {},
   "outputs": [
    {
     "data": {
      "image/png": "[encoded data removed]",
      "text/plain": [
       "<Figure size 432x288 with 1 Axes>"
      ]
     },
     "metadata": {},
     "output_type": "display_data"
    }
   ],
   "source": [
    "plt.scatter(data['G1'], data['G3'])\n",
    "plt.show()"
   ]
  },
  {
   "cell_type": "code",
   "execution_count": 5,
   "metadata": {},
   "outputs": [
    {
     "data": {
      "text/plain": [
       "LinearRegression(copy_X=True, fit_intercept=True, n_jobs=None, normalize=False)"
      ]
     },
     "execution_count": 5,
     "metadata": {},
     "output_type": "execute_result"
    }
   ],
   "source": [
    "linear_model = LinearRegression()\n",
    "linear_model.fit(data[[\"G2\"]], data[\"Ghabool\"])\n"
   ]
  },
  {
   "cell_type": "code",
   "execution_count": 6,
   "metadata": {},
   "outputs": [
    {
     "data": {
      "text/plain": [
       "LogisticRegression(C=1.0, class_weight=None, dual=False, fit_intercept=True,\n",
       "                   intercept_scaling=1, l1_ratio=None, max_iter=100,\n",
       "                   multi_class='auto', n_jobs=None, penalty='l2',\n",
       "                   random_state=None, solver='lbfgs', tol=0.0001, verbose=0,\n",
       "                   warm_start=False)"
      ]
     },
     "execution_count": 6,
     "metadata": {},
     "output_type": "execute_result"
    }
   ],
   "source": [
    "\n",
    "logistic_model = LogisticRegression()\n",
    "logistic_model.fit(data[[\"G2\"]], data[\"Ghabool\"])"
   ]
  },
  {
   "cell_type": "code",
   "execution_count": 7,
   "metadata": {},
   "outputs": [],
   "source": [
    "probabilities = logistic_model.predict_proba(data[[\"G2\"]])"
   ]
  },
  {
   "cell_type": "code",
   "execution_count": 8,
   "metadata": {},
   "outputs": [
    {
     "data": {
      "text/plain": [
       "array([9.79323747e-06, 1.26211714e-06, 5.89298293e-04, 9.92289804e-01,\n",
       "       3.42847454e-02, 9.98999627e-01, 6.81278082e-01, 1.26211714e-06,\n",
       "       9.99997857e-01, 9.98999627e-01, 5.89298293e-04, 6.81278082e-01,\n",
       "       9.92289804e-01, 3.42847454e-02, 9.99870964e-01, 9.92289804e-01,\n",
       "       9.92289804e-01, 3.42847454e-02, 1.26211714e-06, 3.42847454e-02,\n",
       "       9.92289804e-01, 9.98999627e-01, 9.98999627e-01, 9.43136728e-01,\n",
       "       4.55448219e-03, 4.55448219e-03, 6.81278082e-01, 9.99870964e-01,\n",
       "       2.15978349e-01, 6.81278082e-01, 2.15978349e-01, 9.99870964e-01,\n",
       "       9.99870964e-01, 3.42847454e-02, 9.92289804e-01, 7.59849990e-05,\n",
       "       9.99870964e-01, 9.99870964e-01, 6.81278082e-01, 9.43136728e-01,\n",
       "       3.42847454e-02, 6.81278082e-01, 9.99997857e-01, 5.89298293e-04,\n",
       "       3.42847454e-02, 5.89298293e-04, 6.81278082e-01, 9.99999724e-01,\n",
       "       9.98999627e-01, 7.59849990e-05, 9.43136728e-01, 9.43136728e-01,\n",
       "       2.15978349e-01, 3.42847454e-02, 9.43136728e-01, 4.55448219e-03,\n",
       "       9.98999627e-01, 9.98999627e-01, 3.42847454e-02, 9.99870964e-01,\n",
       "       2.15978349e-01, 5.89298293e-04, 3.42847454e-02, 4.55448219e-03,\n",
       "       3.42847454e-02, 9.98999627e-01, 9.43136728e-01, 7.59849990e-05,\n",
       "       4.55448219e-03, 9.99870964e-01, 9.98999627e-01, 3.42847454e-02,\n",
       "       9.79323747e-06, 6.81278082e-01, 6.81278082e-01, 4.55448219e-03,\n",
       "       2.15978349e-01, 2.15978349e-01, 5.89298293e-04, 1.26211714e-06,\n",
       "       6.81278082e-01, 3.42847454e-02, 9.79323747e-06, 9.98999627e-01,\n",
       "       3.42847454e-02, 4.55448219e-03, 7.59849990e-05, 9.92289804e-01,\n",
       "       3.42847454e-02, 9.79323747e-06, 7.59849990e-05, 9.99983369e-01,\n",
       "       9.79323747e-06, 3.42847454e-02, 9.43136728e-01, 3.42847454e-02,\n",
       "       9.98999627e-01, 4.55448219e-03, 9.92289804e-01, 4.55448219e-03,\n",
       "       7.59849990e-05, 9.99983369e-01, 9.43136728e-01, 9.79323747e-06,\n",
       "       9.99997857e-01, 2.15978349e-01, 5.89298293e-04, 9.99997857e-01,\n",
       "       9.43136728e-01, 9.98999627e-01, 9.99999724e-01, 3.42847454e-02,\n",
       "       9.43136728e-01, 9.99999724e-01, 4.55448219e-03, 9.98999627e-01,\n",
       "       9.43136728e-01, 9.92289804e-01, 7.59849990e-05, 9.43136728e-01,\n",
       "       9.98999627e-01, 9.92289804e-01, 9.43136728e-01, 2.15978349e-01,\n",
       "       7.59849990e-05, 9.43136728e-01, 3.42847454e-02, 5.89298293e-04,\n",
       "       1.62655899e-07, 9.99997857e-01, 4.48692274e-11, 4.48692274e-11,\n",
       "       9.43136728e-01, 2.15978349e-01, 4.48692274e-11, 4.48692274e-11,\n",
       "       4.48692274e-11, 4.48692274e-11, 6.81278082e-01, 9.99870964e-01,\n",
       "       4.55448219e-03, 4.55448219e-03, 2.15978349e-01, 9.92289804e-01,\n",
       "       4.48692274e-11, 2.15978349e-01, 7.59849990e-05, 2.15978349e-01,\n",
       "       9.79323747e-06, 4.55448219e-03, 1.26211714e-06, 9.43136728e-01,\n",
       "       3.42847454e-02, 4.48692274e-11, 2.15978349e-01, 5.89298293e-04,\n",
       "       6.81278082e-01, 5.89298293e-04, 9.98999627e-01, 6.81278082e-01,\n",
       "       9.79323747e-06, 4.55448219e-03, 4.48692274e-11, 3.42847454e-02,\n",
       "       5.89298293e-04, 2.15978349e-01, 3.42847454e-02, 9.98999627e-01,\n",
       "       7.59849990e-05, 9.92289804e-01, 1.26211714e-06, 9.98999627e-01,\n",
       "       2.15978349e-01, 7.59849990e-05, 2.15978349e-01, 4.55448219e-03,\n",
       "       9.43136728e-01, 1.26211714e-06, 5.89298293e-04, 3.42847454e-02,\n",
       "       5.89298293e-04, 9.43136728e-01, 9.99983369e-01, 4.55448219e-03,\n",
       "       9.43136728e-01, 6.81278082e-01, 6.81278082e-01, 9.98999627e-01,\n",
       "       7.59849990e-05, 4.55448219e-03, 6.81278082e-01, 5.89298293e-04,\n",
       "       5.89298293e-04, 4.55448219e-03, 9.92289804e-01, 9.98999627e-01,\n",
       "       9.98999627e-01, 4.55448219e-03, 9.99997857e-01, 4.55448219e-03,\n",
       "       9.99870964e-01, 3.42847454e-02, 4.55448219e-03, 9.79323747e-06,\n",
       "       3.42847454e-02, 4.55448219e-03, 7.59849990e-05, 6.81278082e-01,\n",
       "       4.55448219e-03, 7.59849990e-05, 5.89298293e-04, 6.81278082e-01,\n",
       "       9.43136728e-01, 7.59849990e-05, 3.42847454e-02, 9.98999627e-01,\n",
       "       9.79323747e-06, 9.79323747e-06, 7.59849990e-05, 3.42847454e-02,\n",
       "       9.79323747e-06, 1.26211714e-06, 9.99870964e-01, 9.43136728e-01,\n",
       "       9.43136728e-01, 5.89298293e-04, 9.98999627e-01, 2.15978349e-01,\n",
       "       5.89298293e-04, 3.42847454e-02, 9.43136728e-01, 2.15978349e-01,\n",
       "       4.55448219e-03, 9.43136728e-01, 7.59849990e-05, 4.55448219e-03,\n",
       "       9.43136728e-01, 6.81278082e-01, 2.15978349e-01, 7.59849990e-05,\n",
       "       6.81278082e-01, 2.15978349e-01, 4.48692274e-11, 6.81278082e-01,\n",
       "       4.48692274e-11, 9.99997857e-01, 6.81278082e-01, 5.89298293e-04,\n",
       "       1.26211714e-06, 9.98999627e-01, 5.89298293e-04, 3.42847454e-02,\n",
       "       4.55448219e-03, 4.55448219e-03, 6.81278082e-01, 4.55448219e-03,\n",
       "       6.81278082e-01, 2.15978349e-01, 9.92289804e-01, 4.55448219e-03,\n",
       "       9.99997857e-01, 5.89298293e-04, 6.81278082e-01, 4.55448219e-03,\n",
       "       3.42847454e-02, 9.99983369e-01, 4.55448219e-03, 3.42847454e-02,\n",
       "       4.55448219e-03, 4.48692274e-11, 4.55448219e-03, 9.92289804e-01,\n",
       "       2.15978349e-01, 9.92289804e-01, 3.42847454e-02, 6.81278082e-01,\n",
       "       4.55448219e-03, 4.55448219e-03, 5.89298293e-04, 2.15978349e-01,\n",
       "       5.89298293e-04, 4.55448219e-03, 6.81278082e-01, 4.55448219e-03,\n",
       "       4.55448219e-03, 3.42847454e-02, 9.99997857e-01, 6.81278082e-01,\n",
       "       9.92289804e-01, 9.43136728e-01, 2.15978349e-01, 9.98999627e-01,\n",
       "       6.81278082e-01, 9.99997857e-01, 9.43136728e-01, 6.81278082e-01,\n",
       "       4.55448219e-03, 5.89298293e-04, 9.43136728e-01, 9.98999627e-01,\n",
       "       3.42847454e-02, 2.15978349e-01, 6.81278082e-01, 9.99983369e-01,\n",
       "       9.92289804e-01, 6.81278082e-01, 9.99997857e-01, 4.55448219e-03,\n",
       "       6.81278082e-01, 3.42847454e-02, 4.55448219e-03, 6.81278082e-01,\n",
       "       2.15978349e-01, 3.42847454e-02, 9.43136728e-01, 2.15978349e-01,\n",
       "       5.89298293e-04, 3.42847454e-02, 2.15978349e-01, 2.15978349e-01,\n",
       "       9.43136728e-01, 4.55448219e-03, 2.15978349e-01, 9.92289804e-01,\n",
       "       9.98999627e-01, 6.81278082e-01, 9.98999627e-01, 3.42847454e-02,\n",
       "       4.55448219e-03, 9.92289804e-01, 5.89298293e-04, 9.92289804e-01,\n",
       "       4.48692274e-11, 5.89298293e-04, 4.55448219e-03, 9.98999627e-01,\n",
       "       9.43136728e-01, 5.89298293e-04, 9.98999627e-01, 3.42847454e-02,\n",
       "       6.81278082e-01, 3.42847454e-02, 9.98999627e-01, 5.89298293e-04,\n",
       "       3.42847454e-02, 9.43136728e-01, 9.98999627e-01, 3.42847454e-02,\n",
       "       9.98999627e-01, 9.43136728e-01, 7.59849990e-05, 9.43136728e-01,\n",
       "       7.59849990e-05, 5.89298293e-04, 2.15978349e-01, 4.55448219e-03,\n",
       "       9.43136728e-01, 6.81278082e-01, 3.42847454e-02, 9.99870964e-01,\n",
       "       9.43136728e-01, 6.81278082e-01, 2.15978349e-01, 9.98999627e-01,\n",
       "       2.15978349e-01, 3.42847454e-02, 9.43136728e-01, 9.79323747e-06,\n",
       "       3.42847454e-02, 6.81278082e-01, 7.59849990e-05, 6.81278082e-01,\n",
       "       2.15978349e-01, 1.26211714e-06, 9.99997857e-01, 5.89298293e-04,\n",
       "       9.92289804e-01, 4.55448219e-03, 9.98999627e-01, 3.42847454e-02,\n",
       "       9.92289804e-01, 9.79323747e-06, 2.15978349e-01, 1.26211714e-06,\n",
       "       1.26211714e-06, 4.55448219e-03, 1.26211714e-06, 1.26211714e-06,\n",
       "       4.55448219e-03, 1.26211714e-06, 4.55448219e-03, 9.99870964e-01,\n",
       "       5.89298293e-04, 6.81278082e-01, 4.55448219e-03])"
      ]
     },
     "execution_count": 8,
     "metadata": {},
     "output_type": "execute_result"
    }
   ],
   "source": [
    "# احتمالات مربوط به لیبل 0 یا همان مردودی\n",
    "probabilities[:,0]\n",
    "# احتمالات مربوط به 1 یا قبولی\n",
    "probabilities[:,1]"
   ]
  },
  {
   "cell_type": "code",
   "execution_count": 9,
   "metadata": {},
   "outputs": [
    {
     "data": {
      "text/plain": [
       "<matplotlib.collections.PathCollection at 0x178f57aacf8>"
      ]
     },
     "execution_count": 9,
     "metadata": {},
     "output_type": "execute_result"
    },
    {
     "data": {
      "image/png": "[encoded data removed]",
      "text/plain": [
       "<Figure size 432x288 with 1 Axes>"
      ]
     },
     "metadata": {},
     "output_type": "display_data"
    }
   ],
   "source": [
    "plt.scatter(data[\"G2\"], probabilities[:,1])"
   ]
  },
  {
   "cell_type": "code",
   "execution_count": 10,
   "metadata": {},
   "outputs": [],
   "source": [
    "logistic_model.fit(data[[\"studytime\"]], data[\"Ghabool\"])\n",
    "probabilities = logistic_model.predict_proba(data[[\"studytime\"]])"
   ]
  },
  {
   "cell_type": "code",
   "execution_count": 11,
   "metadata": {},
   "outputs": [
    {
     "data": {
      "text/plain": [
       "<matplotlib.collections.PathCollection at 0x178f5814198>"
      ]
     },
     "execution_count": 11,
     "metadata": {},
     "output_type": "execute_result"
    },
    {
     "data": {
      "image/png": "[encoded data removed]",
      "text/plain": [
       "<Figure size 432x288 with 1 Axes>"
      ]
     },
     "metadata": {},
     "output_type": "display_data"
    }
   ],
   "source": [
    "plt.scatter(data[\"studytime\"], probabilities[:,1])"
   ]
  },
  {
   "cell_type": "markdown",
   "metadata": {},
   "source": [
    "## Prediction"
   ]
  },
  {
   "cell_type": "code",
   "execution_count": 21,
   "metadata": {},
   "outputs": [],
   "source": [
    "logistic_model.fit(data[[\"G2\"]], data[\"Ghabool\"])\n",
    "fitted_labels = logistic_model.predict(data[[\"G2\"]])"
   ]
  },
  {
   "cell_type": "code",
   "execution_count": 13,
   "metadata": {},
   "outputs": [
    {
     "data": {
      "text/plain": [
       "<matplotlib.collections.PathCollection at 0x178f58752e8>"
      ]
     },
     "execution_count": 13,
     "metadata": {},
     "output_type": "execute_result"
    },
    {
     "data": {
      "image/png": "[encoded data removed]",
      "text/plain": [
       "<Figure size 432x288 with 1 Axes>"
      ]
     },
     "metadata": {},
     "output_type": "display_data"
    }
   ],
   "source": [
    "plt.scatter(data[\"G2\"], fitted_labels)"
   ]
  },
  {
   "cell_type": "code",
   "execution_count": 14,
   "metadata": {},
   "outputs": [
    {
     "data": {
      "text/plain": [
       "1.0"
      ]
     },
     "execution_count": 14,
     "metadata": {},
     "output_type": "execute_result"
    }
   ],
   "source": [
    "logistic_model.score(data[[\"G2\"]], fitted_labels)"
   ]
  },
  {
   "cell_type": "markdown",
   "metadata": {},
   "source": [
    "## Regularization & Multiple Feature"
   ]
  },
  {
   "cell_type": "code",
   "execution_count": 23,
   "metadata": {},
   "outputs": [],
   "source": [
    "newdf = pd.read_csv('C:/Users/ABA/Desktop/nikamooz/mainCourseSTuuf/dataset/wdbc.csv')\n",
    "traindf = newdf[1:250]\n",
    "testdf = newdf[251:500]"
   ]
  },
  {
   "cell_type": "markdown",
   "metadata": {},
   "source": [
    "### پارامتر C\n"
   ]
  },
  {
   "cell_type": "code",
   "execution_count": 36,
   "metadata": {},
   "outputs": [
    {
     "data": {
      "text/plain": [
       "0.3092369477911647"
      ]
     },
     "execution_count": 36,
     "metadata": {},
     "output_type": "execute_result"
    }
   ],
   "source": [
    "logistic_model = LogisticRegression(C=100)\n",
    "logistic_model.fit(traindf[[\"V8\"]], traindf[\"Class\"])\n",
    "fitted_labels = logistic_model.predict(testdf[[\"V8\"]])\n",
    "logistic_model.score(testdf[[\"Class\"]], fitted_labels)"
   ]
  },
  {
   "cell_type": "code",
   "execution_count": null,
   "metadata": {},
   "outputs": [],
   "source": []
  }
 ],
 "metadata": {
  "kernelspec": {
   "display_name": "Python 3",
   "language": "python",
   "name": "python3"
  },
  "language_info": {
   "codemirror_mode": {
    "name": "ipython",
    "version": 3
   },
   "file_extension": ".py",
   "mimetype": "text/x-python",
   "name": "python",
   "nbconvert_exporter": "python",
   "pygments_lexer": "ipython3",
   "version": "3.6.5"
  }
 },
 "nbformat": 4,
 "nbformat_minor": 2
}
